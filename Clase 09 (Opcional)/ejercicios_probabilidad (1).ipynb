{
 "cells": [
  {
   "cell_type": "code",
   "execution_count": 1,
   "metadata": {},
   "outputs": [],
   "source": [
    "from math import e,factorial\n",
    "from statistics import NormalDist\n",
    "\n",
    "#DISTRIBUCIÓN BINOMIAL\n",
    "\n",
    "def funcion_binomial(k,n,p):\n",
    "  num_exitos = factorial(n) \n",
    "  num_eventos = factorial (k) * factorial(n-k) \n",
    "  exitos_fracaso=pow(p,k) * pow(1-p,(n-k)) \n",
    "\n",
    "  binomial = (num_exitos / num_eventos) * exitos_fracaso\n",
    "\n",
    "  return binomial\n",
    "\n",
    "# DISTRIBUCIÓN DE POISSON\n",
    "\n",
    "def probabilidad_poisson(lamba_np,x):\n",
    "     probabilidad = (pow(e,-lamba_np) * pow(lamba_np,x))/factorial(x)\n",
    "     return probabilidad\n",
    "\n",
    "#DISTRIBUCIÓN HIPERGEOMETRICA\n",
    "\n",
    "def probabilidad_hipergeometrica(N,X,n,x):\n",
    "  Xx = factorial(X)/(factorial(x)*factorial(X-x))\n",
    "  NX_nx= factorial(N-X)/(factorial(n-x)*factorial((N-X)-(n-x)))\n",
    "  Nn = factorial(N)/(factorial(n)*factorial(N-n))\n",
    "  hipergeometrica = (Xx * NX_nx)/Nn\n",
    "\n",
    "  return hipergeometrica"
   ]
  },
  {
   "cell_type": "code",
   "execution_count": 3,
   "metadata": {},
   "outputs": [
    {
     "data": {
      "text/plain": [
       "0.17"
      ]
     },
     "execution_count": 3,
     "metadata": {},
     "output_type": "execute_result"
    }
   ],
   "source": [
    "round(probabilidad_hipergeometrica(10,7,4,4),2)"
   ]
  },
  {
   "cell_type": "code",
   "execution_count": 10,
   "metadata": {},
   "outputs": [
    {
     "data": {
      "text/plain": [
       "0.1"
      ]
     },
     "execution_count": 10,
     "metadata": {},
     "output_type": "execute_result"
    }
   ],
   "source": [
    "round(funcion_binomial(5,10,0.3),2)"
   ]
  },
  {
   "cell_type": "code",
   "execution_count": 11,
   "metadata": {},
   "outputs": [
    {
     "data": {
      "text/plain": [
       "0.03"
      ]
     },
     "execution_count": 11,
     "metadata": {},
     "output_type": "execute_result"
    }
   ],
   "source": [
    "round(1/32,2)"
   ]
  },
  {
   "attachments": {},
   "cell_type": "markdown",
   "metadata": {},
   "source": [
    "P(A) = 0,15 P(B) = 0,31\n",
    "\n",
    "a) P(AUB)  REGLA DE LA ADICION\n",
    "\n",
    "b) P(AnB) REGLA DE LA MULTIPLICACION\n",
    "\n",
    "c) P(A/B)\n",
    "\n",
    "A) Calcule A y B si son mutuamente excluyentes\n",
    "\n",
    "B) Calcule A y B si son Independientes\n"
   ]
  },
  {
   "cell_type": "code",
   "execution_count": null,
   "metadata": {},
   "outputs": [],
   "source": [
    "# a) P(AuB) = P(A) + P(B) - P(AnB) -> P(AuB) = 0.15 + 0.31 - (0.15*0.31) = 0.4135 = 0.414 = 0.41\n",
    "\n",
    "# b) A y B son mutuamente excluyentes: no pueden suceder al mismo tiempo\n",
    "#    P(AnB) = P(A) * P(B) = 0\n",
    "\n",
    "# b) A y B no son mutuamente excluyentes: \n",
    "#    P(AnB) = P(A) * P(B) = 0.15 * 0.31 = 0.0465\n"
   ]
  },
  {
   "attachments": {},
   "cell_type": "markdown",
   "metadata": {},
   "source": [
    "La probabilidad de que un médico diagnostique correctamente una enfermedad en particular es de\n",
    "0,7. Si en cambio, realiza un diagnóstico incorrecto, la probabilidad de que el paciente le haga una\n",
    "demanda es de 0,9. ¿Cuál es la probabilidad de que el médico haga un diagnóstico incorrecto y de\n",
    "que el paciente lo demande?"
   ]
  },
  {
   "cell_type": "code",
   "execution_count": null,
   "metadata": {},
   "outputs": [],
   "source": [
    "# A = El medico diagnostique correctamente al paciente\n",
    "# P(A) = 0.7     P(-A) = 1-P(A) = 0.3\n",
    "\n",
    "\n",
    "# B = El paciente lo demande\n",
    "# P(B) = 0.9\n",
    "\n",
    "# P(-AnB) = P(-A) * P(B) = 0.3 * 0.9 = 0.27  -> La probabilidad de que te diagnostiquen mal y encima tdemandes al doctor\n"
   ]
  },
  {
   "attachments": {},
   "cell_type": "markdown",
   "metadata": {},
   "source": [
    "De un grupo de 250 turistas, 100 viajaron al caribe, 125 viajaron a Europa, y 100 viajaron a ambos\n",
    "lugares\n",
    "\n",
    "a. ¿Cuál es la probabilidad de que un turista elegido al azar haya viajado a Europa?\n",
    "\n",
    "b. ¿Cuál es la probabilidad de que un turista elegido al azar haya viajado a los dos destinos?\n",
    "\n",
    "c. ¿Qué no conozca ninguno de los dos?"
   ]
  },
  {
   "cell_type": "code",
   "execution_count": 2,
   "metadata": {},
   "outputs": [
    {
     "name": "stdout",
     "output_type": "stream",
     "text": [
      "Probabilidad de que un turista elegido al azar haya viajado a Europa: 1.00\n",
      "Probabilidad de que un turista elegido al azar haya viajado a los dos destinos: 0.40\n",
      "Probabilidad de que un turista elegido al azar no haya viajado a ninguno de los dos destinos: -0.40\n"
     ]
    }
   ],
   "source": [
    "def probabilidad_europa(turistas_caribe, turistas_europa, turistas_ambos):\n",
    "    \"\"\"\n",
    "    Calcula la probabilidad de que un turista elegido al azar haya viajado a Europa.\n",
    "\n",
    "    Args:\n",
    "        turistas_caribe: Número de turistas que viajaron al Caribe.\n",
    "        turistas_europa: Número de turistas que viajaron a Europa.\n",
    "        turistas_ambos: Número de turistas que viajaron a ambos destinos.\n",
    "\n",
    "    Returns:\n",
    "        La probabilidad de que un turista elegido al azar haya viajado a Europa.\n",
    "    \"\"\"\n",
    "    total_turistas = turistas_caribe + turistas_europa - turistas_ambos\n",
    "    return turistas_europa / total_turistas\n",
    "\n",
    "def probabilidad_ambos(turistas_ambos, total_turistas):\n",
    "    \"\"\"\n",
    "    Calcula la probabilidad de que un turista elegido al azar haya viajado a los dos destinos.\n",
    "\n",
    "    Args:\n",
    "        turistas_ambos: Número de turistas que viajaron a ambos destinos.\n",
    "        total_turistas: Número total de turistas.\n",
    "\n",
    "    Returns:\n",
    "        La probabilidad de que un turista elegido al azar haya viajado a ambos destinos.\n",
    "    \"\"\"\n",
    "    return turistas_ambos / total_turistas\n",
    "\n",
    "if __name__ == \"__main__\":\n",
    "    total_turistas = 250\n",
    "    turistas_caribe = 100\n",
    "    turistas_europa = 125\n",
    "    turistas_ambos = 100\n",
    "\n",
    "    prob_europa = probabilidad_europa(turistas_caribe, turistas_europa, turistas_ambos)\n",
    "    prob_ambos = probabilidad_ambos(turistas_ambos, total_turistas)\n",
    "    prob_ninguno = 1 - (prob_europa + prob_ambos)\n",
    "\n",
    "    print(f\"Probabilidad de que un turista elegido al azar haya viajado a Europa: {prob_europa:.2f}\")\n",
    "    print(f\"Probabilidad de que un turista elegido al azar haya viajado a los dos destinos: {prob_ambos:.2f}\")\n",
    "    print(f\"Probabilidad de que un turista elegido al azar no haya viajado a ninguno de los dos destinos: {prob_ninguno:.2f}\")\n"
   ]
  },
  {
   "attachments": {},
   "cell_type": "markdown",
   "metadata": {},
   "source": [
    "Si A y B son mutuamente excluyentes, P(A) = 0.29 P(B) = 0.43 ,\n",
    "Calcule:\n",
    "\n",
    "a. P(AUB)\n",
    "\n",
    "b. P(AB)\n",
    "\n",
    "c. P(A/B)\n",
    "\n",
    "d. P(B/A)\n"
   ]
  },
  {
   "cell_type": "markdown",
   "metadata": {},
   "source": [
    "P(AUB) = P(A) + P(B) = 0.29 + 0.43 = 0.72\n",
    "\n",
    "P(AB) = 0, ya que no puede ocurrir que un evento ocurra y el otro también.\n",
    "\n",
    "P(A/B) = P(A) / P(B) = 0.29 / 0.43 = 0.67\n",
    "\n",
    "P(B/A) = P(B) / P(A) = 0.43 / 0.29 = 1.48"
   ]
  },
  {
   "attachments": {},
   "cell_type": "markdown",
   "metadata": {},
   "source": [
    "Una agencia de autos recibe un embarque de 40 automóviles nuevos. Entre estos, 4 autos tienen\n",
    "defectos. La agencia decide seleccionar aleatoriamente, sin reposición, dos y aceptar el embarque\n",
    "si ninguno de los dos vehículos seleccionados tiene defectos. ¿Cuál es la probabilidad de aceptar el\n",
    "embarque?"
   ]
  },
  {
   "cell_type": "code",
   "execution_count": null,
   "metadata": {},
   "outputs": [],
   "source": []
  },
  {
   "cell_type": "code",
   "execution_count": 5,
   "metadata": {},
   "outputs": [
    {
     "name": "stdout",
     "output_type": "stream",
     "text": [
      "0.8076923076923077\n",
      "0.8076923076923077\n"
     ]
    }
   ],
   "source": [
    "# HIPERGEOMETRICA\n",
    "\n",
    "# N -> TAMAÑO DE LA POBLACION                                   = 40 autos\n",
    "# K -> N° DE LA POBLACION QUE CUMPLEN CIERTA CONDICION          = 4 tienen defectos -> 40 - 4 = 36 son normales\n",
    "# n -> TAMAÑO DE LA MUESTRA OBTENIDA                            = 2 autos\n",
    "# k x -> N° DE LA MUESTRA QUE CUMPLAN CIERTA CONDICION          = 0 defectuosos\n",
    "\n",
    "print(probabilidad_hipergeometrica(N=40, X=36, n=2, x=2)) \n",
    "# ACA CALCULO LA PROBABILIDAD DE QUE EN 40 AUTOS QUE 36 SON SIN DEFECTO TOMO UNA MUESTRA DE DOS AUTOS Y CALCULO LA PROBABILIDAD DE QUE ESOS 2 AUTOS SEAN SIN DEFECTOS\n",
    "\n",
    "print(probabilidad_hipergeometrica(N=40, X=4, n=2, x=0))\n",
    "# ACA CALCULA LA PROBABILIDAD DE QUE EN 40 AUTOS 4 TIENEN FALLAS TOMO UNA MUESTRA DE DOS AUTOS Y CALCULA LA PROBABILIDAD DE QUE EN ESOS 2 AUTOS NO HAYA NINGUNO CON FALLAS"
   ]
  },
  {
   "attachments": {},
   "cell_type": "markdown",
   "metadata": {},
   "source": [
    "De entre 20 tanques fabricados para una nave espacial, tres se encuentran con defectos. Si se\n",
    "seleccionan aleatoriamente 4 tanques (sin reposición). ¿Cuál es la probabilidad de que ninguno este\n",
    "defectuoso? ¿Cuál es la probabilidad de que uno este defectuoso?"
   ]
  },
  {
   "cell_type": "markdown",
   "metadata": {},
   "source": [
    "Distribución binomial\n",
    "\n",
    "P(0 éxitos) = (1 - p)^n\n",
    "P(0 éxitos) = (1 - 3/20)^4\n",
    "P(0 éxitos) = (17/20)^4\n",
    "P(0 éxitos) = 0.0346\n",
    "\n",
    "\n",
    "P(1 éxito) = nC1 * p * (1 - p)^n-1\n",
    "P(1 éxito) = 4C1 * 3/20 * (1 - 3/20)^3\n",
    "P(1 éxito) = 4 * 3/20 * 17/20 * 17/20 * 17/20\n",
    "P(1 éxito) = 0.2272"
   ]
  },
  {
   "attachments": {},
   "cell_type": "markdown",
   "metadata": {},
   "source": [
    "La probabilidad de que el gerente de compras este en la oficina cuando llame el representante de\n",
    "marketing de una empresa proveedora es 0.4. Dado que el gerente está en la oficina, la probabilidad\n",
    "de que la empresa le venda un producto es 0.3. Encuentre la probabilidad de que el gerente esté en\n",
    "la oficina y compre productos de la empresa"
   ]
  },
  {
   "cell_type": "code",
   "execution_count": null,
   "metadata": {},
   "outputs": [],
   "source": []
  },
  {
   "attachments": {},
   "cell_type": "markdown",
   "metadata": {},
   "source": [
    "Una fabrica de vehiculos, en la ultima semana produjo 17 vehiculos, de los cuales la autoridad estatal de control de calidad tomó una muestra aleatoria de 7 vehiculos para control. El ingeniero de planta indica al gerente que 8 de los 17 vehiculos tienen una falla en el motor. ¿Cuál es la probabilidad de qué en la muestra encuentren:\n",
    "\n",
    "a) Exactamente 3 con fallas de motor?\n",
    "\n",
    "b) Por lo menos 3 con fallas en el motor?\n",
    "\n",
    "c) Exactamente 3 sin fallas?"
   ]
  },
  {
   "cell_type": "code",
   "execution_count": null,
   "metadata": {},
   "outputs": [],
   "source": []
  },
  {
   "attachments": {},
   "cell_type": "markdown",
   "metadata": {},
   "source": [
    "De un lote de 10 proyectiles se seleccionan 4 y se disparan. Si el lote contiene 3 proyectiles defectuosos que no explotarán, ¿Cuál es la probabilidad de qué:\n",
    "\n",
    "a) Los 4 exploten?\n",
    "\n",
    "b) Al menos 2 exploten?"
   ]
  },
  {
   "cell_type": "code",
   "execution_count": null,
   "metadata": {},
   "outputs": [],
   "source": []
  },
  {
   "attachments": {},
   "cell_type": "markdown",
   "metadata": {},
   "source": [
    "De acuerdo a datos brindados por transito los sábados por la noche se ha observado que el 30% de los conductores que llegan a ser controlados con las pruebas de alcoholemia dan positivo.Un oficial durante su guardia llega a inspeccionar a 10 conductores escogidos al azar. Si tenemos en cuenta que el número de conductores no es suficientemente importante como para afectar la proporción de infractores. ¿Cuál es la probabilidad de qué:\n",
    "\n",
    "a) Exactamente 2 conductores se encuentren en estado de ebriedad?\n",
    "\n",
    "b) Al menos 3 conductores se encuentren en estado de ebriedad?\n",
    "\n",
    "c) Exactamente 2 conductores se encuentren sobrios?"
   ]
  },
  {
   "cell_type": "code",
   "execution_count": 12,
   "metadata": {},
   "outputs": [
    {
     "name": "stdout",
     "output_type": "stream",
     "text": [
      "0.23\n",
      "0.62\n",
      "0.62\n",
      "0.0014467005000000015\n",
      "0.0014467004999999993\n"
     ]
    }
   ],
   "source": [
    "# DISTRIBUCION BINOMIAL\n",
    "# a) P(x=2)\n",
    "\n",
    "# n = tamaño de la muestra          = 10 conductores\n",
    "# k = numero de exitos esperados    = 2 conductores tengan alcohol +\n",
    "# p = probabilidad de exito         = 30% de los conductores tienen alcohol + -> 0.3\n",
    "# q = probabilidad de fracaso       = probabilidad de que tengan alcohol - -> 1 - alcohol + -> 1-0.3 -> 0.7\n",
    "\n",
    "print(round(funcion_binomial(2,10,0.3),2)) # 0.23\n",
    "\n",
    "# b) P(x>=3) -> P(x=3) + P(x=4) + P(x=5) + ... + P(x=10)\n",
    "# b) P(x>=3) -> 1 - (P(x=0) + P(x=1) + P(x=2)) \n",
    "\n",
    "suma = 0\n",
    "for i in range(0,3):\n",
    "    suma += funcion_binomial(k=i,n=10,p=0.3)\n",
    "print(1-round(suma,2)) # 0.62\n",
    "\n",
    "suma = 0\n",
    "for i in range(3,11):\n",
    "    suma += funcion_binomial(k=i, n=10, p=0.3)\n",
    "print(round(suma,2))\n",
    "\n",
    "\n",
    "\n",
    "# c) \n",
    "\n",
    "# n = tamaño de la muestra          = 10 conductores\n",
    "# k = numero de exitos esperados    = 2 conductores tengan alcohol -\n",
    "# p = probabilidad de exito         = alcohol - -> 0.7\n",
    "# q = probabilidad de fracaso       =  alcohol +  -> 0.3\n",
    "\n",
    "print(funcion_binomial(2,10,0.7)) # 0.01   # 2 sobrios en 10 con p 0.7\n",
    "\n",
    "print(funcion_binomial(8,10,0.3)) # 8 alcoholizados en 10 con p 0.3"
   ]
  },
  {
   "attachments": {},
   "cell_type": "markdown",
   "metadata": {},
   "source": [
    " Una compañía está interesada en evaluar sus actuales procedimientos de inspección en el\n",
    "embarque de 50 artículos idénticos. El procedimiento consiste en autorizar el embarque si en una\n",
    "muestra de 5 no hay más de 2 artículos defectuosos. ¿Qué porcentaje de embarques que contienen\n",
    "un 20% de defectuosos serán autorizados?"
   ]
  },
  {
   "cell_type": "code",
   "execution_count": null,
   "metadata": {},
   "outputs": [],
   "source": []
  },
  {
   "attachments": {},
   "cell_type": "markdown",
   "metadata": {},
   "source": [
    "En una línea de producción de una fábrica se registran en promedio 3 fallos por hora. ¿Cuál es la probabilidad de que en una hora específica haya exactamente 5 fallos?"
   ]
  },
  {
   "cell_type": "code",
   "execution_count": null,
   "metadata": {},
   "outputs": [],
   "source": []
  },
  {
   "attachments": {},
   "cell_type": "markdown",
   "metadata": {},
   "source": [
    "En una estación de servicio se estima que llegan en promedio 2 vehículos por minuto. ¿Cuál es la probabilidad de que en un período de 5 minutos lleguen exactamente 8 vehículos?"
   ]
  },
  {
   "cell_type": "code",
   "execution_count": null,
   "metadata": {},
   "outputs": [],
   "source": []
  }
 ],
 "metadata": {
  "kernelspec": {
   "display_name": "Python 3.11.3 64-bit",
   "language": "python",
   "name": "python3"
  },
  "language_info": {
   "codemirror_mode": {
    "name": "ipython",
    "version": 3
   },
   "file_extension": ".py",
   "mimetype": "text/x-python",
   "name": "python",
   "nbconvert_exporter": "python",
   "pygments_lexer": "ipython3",
   "version": "3.11.4"
  },
  "orig_nbformat": 4,
  "vscode": {
   "interpreter": {
    "hash": "52634da84371cba311ea128a5ea7cdc41ff074b781779e754b270ff9f8153cee"
   }
  }
 },
 "nbformat": 4,
 "nbformat_minor": 2
}
