{
 "cells": [
  {
   "cell_type": "markdown",
   "metadata": {},
   "source": [
    "¿cuál es el numero de permutaciones posibles de las letras en la palabra \"DATOS\"?"
   ]
  },
  {
   "cell_type": "code",
   "execution_count": 4,
   "metadata": {},
   "outputs": [
    {
     "name": "stdout",
     "output_type": "stream",
     "text": [
      "Permutaciones de la palabra: ['DATOS', 'DATSO', 'DAOTS', 'DAOST', 'DASTO', 'DASOT', 'DTAOS', 'DTASO', 'DTOAS', 'DTOSA', 'DTSAO', 'DTSOA', 'DOATS', 'DOAST', 'DOTAS', 'DOTSA', 'DOSAT', 'DOSTA', 'DSATO', 'DSAOT', 'DSTAO', 'DSTOA', 'DSOAT', 'DSOTA', 'ADTOS', 'ADTSO', 'ADOTS', 'ADOST', 'ADSTO', 'ADSOT', 'ATDOS', 'ATDSO', 'ATODS', 'ATOSD', 'ATSDO', 'ATSOD', 'AODTS', 'AODST', 'AOTDS', 'AOTSD', 'AOSDT', 'AOSTD', 'ASDTO', 'ASDOT', 'ASTDO', 'ASTOD', 'ASODT', 'ASOTD', 'TDAOS', 'TDASO', 'TDOAS', 'TDOSA', 'TDSAO', 'TDSOA', 'TADOS', 'TADSO', 'TAODS', 'TAOSD', 'TASDO', 'TASOD', 'TODAS', 'TODSA', 'TOADS', 'TOASD', 'TOSDA', 'TOSAD', 'TSDAO', 'TSDOA', 'TSADO', 'TSAOD', 'TSODA', 'TSOAD', 'ODATS', 'ODAST', 'ODTAS', 'ODTSA', 'ODSAT', 'ODSTA', 'OADTS', 'OADST', 'OATDS', 'OATSD', 'OASDT', 'OASTD', 'OTDAS', 'OTDSA', 'OTADS', 'OTASD', 'OTSDA', 'OTSAD', 'OSDAT', 'OSDTA', 'OSADT', 'OSATD', 'OSTDA', 'OSTAD', 'SDATO', 'SDAOT', 'SDTAO', 'SDTOA', 'SDOAT', 'SDOTA', 'SADTO', 'SADOT', 'SATDO', 'SATOD', 'SAODT', 'SAOTD', 'STDAO', 'STDOA', 'STADO', 'STAOD', 'STODA', 'STOAD', 'SODAT', 'SODTA', 'SOADT', 'SOATD', 'SOTDA', 'SOTAD']\n",
      "Cantidad de permutaciones: 120\n"
     ]
    }
   ],
   "source": [
    "from itertools import permutations\n",
    "\n",
    "# Palabra de ejemplo\n",
    "palabra = \"DATOS\"\n",
    "\n",
    "# Generar todas las permutaciones de la palabra\n",
    "permutaciones = [''.join(p) for p in permutations(palabra)]\n",
    "\n",
    "# Contar las permutaciones\n",
    "cantidad_permutaciones = len(permutaciones)\n",
    "\n",
    "# Mostrar las permutaciones y la cantidad\n",
    "print(\"Permutaciones de la palabra:\", permutaciones)\n",
    "print(\"Cantidad de permutaciones:\", cantidad_permutaciones)\n",
    "\n"
   ]
  },
  {
   "cell_type": "markdown",
   "metadata": {},
   "source": [
    "una startup tiene un efectivo de SIOO_OOO y un gasto mensual actual de $30_000. Si la startup\n",
    "genera ingresos mensuales de $20_000, ¿cuántos meses puede operar antes de agotar su efectivo de acuerdo a sus gastos actuales? "
   ]
  },
  {
   "cell_type": "code",
   "execution_count": 5,
   "metadata": {},
   "outputs": [
    {
     "name": "stdout",
     "output_type": "stream",
     "text": [
      "La startup puede operar durante aproximadamente 10 meses antes de agotar su efectivo.\n"
     ]
    }
   ],
   "source": [
    "efectivo = 100000  # Efectivo inicial\n",
    "gasto_mensual = 30000  # Gasto mensual\n",
    "ingreso_mensual = 20000  # Ingreso mensual\n",
    "\n",
    "# Calcular el gasto neto por mes restando los ingresos de los gastos\n",
    "gasto_neto = gasto_mensual - ingreso_mensual\n",
    "\n",
    "# Calcular el número de meses que puede operar\n",
    "meses_operacion = efectivo / gasto_neto\n",
    "\n",
    "print(\"La startup puede operar durante aproximadamente\", round(meses_operacion), \"meses antes de agotar su efectivo.\")\n"
   ]
  },
  {
   "cell_type": "code",
   "execution_count": 6,
   "metadata": {},
   "outputs": [
    {
     "name": "stdout",
     "output_type": "stream",
     "text": [
      "La startup puede operar durante -10.0 meses\n"
     ]
    }
   ],
   "source": [
    "# Declaramos las variables\n",
    "efectivo = 100_000\n",
    "gasto_mensual = 30_000\n",
    "ingresos_mensuales = 20_000\n",
    "\n",
    "# Calculamos el flujo de efectivo mensual\n",
    "flujo_efectivo_mensual = ingresos_mensuales - gasto_mensual\n",
    "\n",
    "# Calculamos el tiempo que la startup puede operar\n",
    "tiempo = efectivo / flujo_efectivo_mensual\n",
    "\n",
    "# Imprimimos el resultado\n",
    "print(f\"La startup puede operar durante {tiempo} meses\")\n"
   ]
  },
  {
   "cell_type": "markdown",
   "metadata": {},
   "source": [
    "En una tienda, la probabilidad de que un cliente pague en efectivo es del 60% y la probabilidad de que un cliente pague con tarjeta de crédito es del 40%. ¿Cuál es la probabilidad de que dos clientes sucesivos paguen en efectivo el primero y con tarjeta de crédito el segundo?"
   ]
  },
  {
   "cell_type": "code",
   "execution_count": 4,
   "metadata": {},
   "outputs": [
    {
     "data": {
      "text/plain": [
       "(0.24,)"
      ]
     },
     "execution_count": 4,
     "metadata": {},
     "output_type": "execute_result"
    }
   ],
   "source": [
    "def probabilidad_de_dos_clientes(probabilidad_de_efectivo, probabilidad_de_tarjeta_de_credito):\n",
    "  \"\"\"\n",
    "  Calcula la probabilidad de que dos clientes sucesivos paguen en efectivo el primero y con tarjeta de crédito el segundo.\n",
    "\n",
    "  Args:\n",
    "    probabilidad_de_efectivo: La probabilidad de que un cliente pague en efectivo.\n",
    "    probabilidad_de_tarjeta_de_credito: La probabilidad de que un cliente pague con tarjeta de crédito.\n",
    "\n",
    "  Returns:\n",
    "    La probabilidad de que dos clientes sucesivos paguen en efectivo el primero y con tarjeta de crédito el segundo.\n",
    "  \"\"\"\n",
    "\n",
    "  return probabilidad_de_efectivo * probabilidad_de_tarjeta_de_credito\n",
    "\n",
    "\n",
    "probabilidad_de_dos_clientes(0.6, 0.4), \n"
   ]
  },
  {
   "cell_type": "code",
   "execution_count": 5,
   "metadata": {},
   "outputs": [
    {
     "name": "stdout",
     "output_type": "stream",
     "text": [
      "La probabilidad de que dos clientes paguen en efectivo el primero y con tarjeta de crédito el segundo es: 0.24\n"
     ]
    }
   ],
   "source": [
    "probabilidad_primer_evento = 0.6\n",
    "probabilidad_segundo_evento = 0.4\n",
    "\n",
    "probabilidad_total = probabilidad_primer_evento * probabilidad_segundo_evento\n",
    "print(\"La probabilidad de que dos clientes paguen en efectivo el primero y con tarjeta de crédito el segundo es:\", probabilidad_total)\n"
   ]
  },
  {
   "cell_type": "code",
   "execution_count": null,
   "metadata": {},
   "outputs": [],
   "source": []
  }
 ],
 "metadata": {
  "kernelspec": {
   "display_name": "Python 3",
   "language": "python",
   "name": "python3"
  },
  "language_info": {
   "codemirror_mode": {
    "name": "ipython",
    "version": 3
   },
   "file_extension": ".py",
   "mimetype": "text/x-python",
   "name": "python",
   "nbconvert_exporter": "python",
   "pygments_lexer": "ipython3",
   "version": "3.10.11"
  }
 },
 "nbformat": 4,
 "nbformat_minor": 2
}
